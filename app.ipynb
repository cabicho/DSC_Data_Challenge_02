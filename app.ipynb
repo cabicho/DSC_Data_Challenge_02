{
 "cells": [
  {
   "cell_type": "code",
   "execution_count": 7,
   "id": "c856be85",
   "metadata": {},
   "outputs": [
    {
     "name": "stdout",
     "output_type": "stream",
     "text": [
      "Colunas disponíveis no DataFrame:\n",
      "[\"P0_id'\", \"P1_a_Idade'\", \"P1_a_1_Faixa_idade'\", \"P1_b_Genero'\", \"P1_c_Cor/raca/etnia'\", \"P1_d_PCD'\", \"P1_e_experiencia_profissional_prejudicada'\", \"P1_e_1_Não_acredito_que_minha_experiência_profissional_seja_afetada'\", \"P1_e_2_Experiencia_prejudicada_devido_a_minha_Cor_Raça_Etnia'\", \"P1_e_3_Experiencia_prejudicada_devido_a_minha_identidade_de_gênero'\", \"P1_e_4_Experiencia_prejudicada_devido_ao_fato_de_ser_PCD'\", \"P1_f_aspectos_prejudicados'\", \"P1_f_1_Quantidade_de_oportunidades_de_emprego/vagas_recebidas'\", \"P1_f_2_Senioridade_das_vagas_recebidas_em_relação_à_sua_experiência'\", \"P1_f_3_Aprovação_em_processos_seletivos/entrevistas'\", \"P1_f_4_Oportunidades_de_progressão_de_carreira'\", \"P1_f_5_Velocidade_de_progressão_de_carreira'\", \"P1_f_6_Nível_de_cobrança_no_trabalho/Stress_no_trabalho'\", \"P1_f_7_Atenção_dada_diante_das_minhas_opiniões_e_ideias'\", \"P1_f_8_Relação_com_outros_membros_da_empresa,_em_momentos_de_trabalho'\", \"P1_f_9_Relação_com_outros_membros_da_empresa,_em_momentos_de_integração_e_outros_momentos_fora_do_trabalho'\", \"P1_g_vive_no_brasil'\", \"P1_i_Estado_onde_mora'\", \"P1_i_1_uf_onde_mora'\", \"P1_i_2_Regiao_onde_mora'\", \"P1_j_Mudou_de_Estado?'\", \"P1_k_Regiao_de_origem'\", \"P1_l_Nivel_de_Ensino'\", \"P1_m_Área_de_Formação'\"]\n",
      "0       Computação / Engenharia de Software / Sistemas...\n",
      "1       Computação / Engenharia de Software / Sistemas...\n",
      "2       Computação / Engenharia de Software / Sistemas...\n",
      "3       Computação / Engenharia de Software / Sistemas...\n",
      "4       Economia/ Administração / Contabilidade / Fina...\n",
      "                              ...                        \n",
      "5288    Computação / Engenharia de Software / Sistemas...\n",
      "5289                                   Outras Engenharias\n",
      "5290    Marketing / Publicidade / Comunicação / Jornal...\n",
      "5291    Computação / Engenharia de Software / Sistemas...\n",
      "5292    Computação / Engenharia de Software / Sistemas...\n",
      "Name: P1_m_Área_de_Formação', Length: 5293, dtype: object\n"
     ]
    }
   ],
   "source": [
    "from app import df"
   ]
  },
  {
   "cell_type": "code",
   "execution_count": 8,
   "id": "68889173",
   "metadata": {},
   "outputs": [
    {
     "data": {
      "text/html": [
       "<div>\n",
       "<style scoped>\n",
       "    .dataframe tbody tr th:only-of-type {\n",
       "        vertical-align: middle;\n",
       "    }\n",
       "\n",
       "    .dataframe tbody tr th {\n",
       "        vertical-align: top;\n",
       "    }\n",
       "\n",
       "    .dataframe thead th {\n",
       "        text-align: right;\n",
       "    }\n",
       "</style>\n",
       "<table border=\"1\" class=\"dataframe\">\n",
       "  <thead>\n",
       "    <tr style=\"text-align: right;\">\n",
       "      <th></th>\n",
       "      <th>P0_id'</th>\n",
       "      <th>P1_a_Idade'</th>\n",
       "      <th>P1_a_1_Faixa_idade'</th>\n",
       "      <th>P1_b_Genero'</th>\n",
       "      <th>P1_c_Cor/raca/etnia'</th>\n",
       "      <th>P1_d_PCD'</th>\n",
       "      <th>P1_e_experiencia_profissional_prejudicada'</th>\n",
       "      <th>P1_e_1_Não_acredito_que_minha_experiência_profissional_seja_afetada'</th>\n",
       "      <th>P1_e_2_Experiencia_prejudicada_devido_a_minha_Cor_Raça_Etnia'</th>\n",
       "      <th>P1_e_3_Experiencia_prejudicada_devido_a_minha_identidade_de_gênero'</th>\n",
       "      <th>...</th>\n",
       "      <th>P1_f_9_Relação_com_outros_membros_da_empresa,_em_momentos_de_integração_e_outros_momentos_fora_do_trabalho'</th>\n",
       "      <th>P1_g_vive_no_brasil'</th>\n",
       "      <th>P1_i_Estado_onde_mora'</th>\n",
       "      <th>P1_i_1_uf_onde_mora'</th>\n",
       "      <th>P1_i_2_Regiao_onde_mora'</th>\n",
       "      <th>P1_j_Mudou_de_Estado?'</th>\n",
       "      <th>P1_k_Regiao_de_origem'</th>\n",
       "      <th>P1_l_Nivel_de_Ensino'</th>\n",
       "      <th>P1_m_Área_de_Formação'</th>\n",
       "      <th>Area_TI</th>\n",
       "    </tr>\n",
       "  </thead>\n",
       "  <tbody>\n",
       "    <tr>\n",
       "      <th>3964</th>\n",
       "      <td>r682z6hrmwnxb8ikgj2ue67r682z6hll</td>\n",
       "      <td>34</td>\n",
       "      <td>30-34</td>\n",
       "      <td>Masculino</td>\n",
       "      <td>Branca</td>\n",
       "      <td>Não</td>\n",
       "      <td>NaN</td>\n",
       "      <td>NaN</td>\n",
       "      <td>NaN</td>\n",
       "      <td>NaN</td>\n",
       "      <td>...</td>\n",
       "      <td>NaN</td>\n",
       "      <td>1</td>\n",
       "      <td>Rio de Janeiro (RJ)</td>\n",
       "      <td>RJ</td>\n",
       "      <td>Sudeste</td>\n",
       "      <td>0.0</td>\n",
       "      <td>São Paulo (SP)</td>\n",
       "      <td>Mestrado</td>\n",
       "      <td>Economia/ Administração / Contabilidade / Fina...</td>\n",
       "      <td>False</td>\n",
       "    </tr>\n",
       "  </tbody>\n",
       "</table>\n",
       "<p>1 rows × 30 columns</p>\n",
       "</div>"
      ],
      "text/plain": [
       "                                P0_id'  P1_a_Idade' P1_a_1_Faixa_idade'  \\\n",
       "3964  r682z6hrmwnxb8ikgj2ue67r682z6hll           34               30-34   \n",
       "\n",
       "     P1_b_Genero' P1_c_Cor/raca/etnia' P1_d_PCD'  \\\n",
       "3964    Masculino               Branca       Não   \n",
       "\n",
       "     P1_e_experiencia_profissional_prejudicada'  \\\n",
       "3964                                        NaN   \n",
       "\n",
       "      P1_e_1_Não_acredito_que_minha_experiência_profissional_seja_afetada'  \\\n",
       "3964                                                NaN                      \n",
       "\n",
       "      P1_e_2_Experiencia_prejudicada_devido_a_minha_Cor_Raça_Etnia'  \\\n",
       "3964                                                NaN               \n",
       "\n",
       "      P1_e_3_Experiencia_prejudicada_devido_a_minha_identidade_de_gênero'  \\\n",
       "3964                                                NaN                     \n",
       "\n",
       "      ...  \\\n",
       "3964  ...   \n",
       "\n",
       "      P1_f_9_Relação_com_outros_membros_da_empresa,_em_momentos_de_integração_e_outros_momentos_fora_do_trabalho'  \\\n",
       "3964                                                NaN                                                             \n",
       "\n",
       "     P1_g_vive_no_brasil'  P1_i_Estado_onde_mora'  P1_i_1_uf_onde_mora'  \\\n",
       "3964                    1     Rio de Janeiro (RJ)                    RJ   \n",
       "\n",
       "      P1_i_2_Regiao_onde_mora'  P1_j_Mudou_de_Estado?'  \\\n",
       "3964                   Sudeste                     0.0   \n",
       "\n",
       "      P1_k_Regiao_de_origem'  P1_l_Nivel_de_Ensino'  \\\n",
       "3964          São Paulo (SP)               Mestrado   \n",
       "\n",
       "                                 P1_m_Área_de_Formação'  Area_TI  \n",
       "3964  Economia/ Administração / Contabilidade / Fina...    False  \n",
       "\n",
       "[1 rows x 30 columns]"
      ]
     },
     "execution_count": 8,
     "metadata": {},
     "output_type": "execute_result"
    }
   ],
   "source": [
    "df.sample()"
   ]
  }
 ],
 "metadata": {
  "kernelspec": {
   "display_name": ".venv",
   "language": "python",
   "name": "python3"
  },
  "language_info": {
   "codemirror_mode": {
    "name": "ipython",
    "version": 3
   },
   "file_extension": ".py",
   "mimetype": "text/x-python",
   "name": "python",
   "nbconvert_exporter": "python",
   "pygments_lexer": "ipython3",
   "version": "3.12.3"
  }
 },
 "nbformat": 4,
 "nbformat_minor": 5
}
